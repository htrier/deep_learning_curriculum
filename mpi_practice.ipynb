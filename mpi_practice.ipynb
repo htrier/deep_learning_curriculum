{
 "cells": [
  {
   "cell_type": "markdown",
   "id": "de8945bf",
   "metadata": {},
   "source": [
    "mpi4py example (https://www.youtube.com/watch?v=36nCgG40DJo&t=1215s):\n",
    "allreduce functions listed: https://education.molssi.org/parallel-programming/03-distributed-examples-mpi4py/index.html"
   ]
  },
  {
   "cell_type": "code",
   "execution_count": 9,
   "id": "865064c5",
   "metadata": {},
   "outputs": [
    {
     "name": "stdout",
     "output_type": "stream",
     "text": [
      "my_rank = 0\n",
      "p = 1\n"
     ]
    }
   ],
   "source": [
    "from mpi4py import MPI\n",
    "comm = MPI.COMM_WORLD\n",
    "my_rank = comm.Get_rank()\n",
    "print(\"my_rank =\",my_rank)\n",
    "p = comm.Get_size()\n",
    "print(\"p =\",p)"
   ]
  },
  {
   "cell_type": "code",
   "execution_count": 10,
   "id": "040be109",
   "metadata": {},
   "outputs": [],
   "source": [
    "if my_rank != 0:\n",
    "    message = \"Hello from \"+str(my_rank)\n",
    "    comm.send(message, dest=0)\n",
    "else:\n",
    "    for procid in range(1,p):\n",
    "        message = comm.recv(source=procid)\n",
    "        print(\"process 0 receives message from process\", procid,\":\",message)"
   ]
  },
  {
   "cell_type": "markdown",
   "id": "79224a93",
   "metadata": {},
   "source": [
    "With all reduce:"
   ]
  },
  {
   "cell_type": "code",
   "execution_count": 13,
   "id": "09b89a1a",
   "metadata": {},
   "outputs": [
    {
     "name": "stdout",
     "output_type": "stream",
     "text": [
      "process  0 has computed sum = [1, 2, 3]\n"
     ]
    }
   ],
   "source": [
    "if my_rank == 0:\n",
    "    data = [1,2,3]\n",
    "    all_data_sum = comm.allreduce(data, op=MPI.SUM)\n",
    "    print(\"process \",my_rank,\"has computed sum =\", all_data_sum)\n",
    "else:\n",
    "    data = [4,5,6]\n",
    "    all_data_sum = comm.allreduce(data, op=MPI.SUM)\n",
    "    print(\"process \",my_rank,\"has computed sum =\", all_data_sum)"
   ]
  },
  {
   "cell_type": "markdown",
   "id": "f9f15dcf",
   "metadata": {},
   "source": [
    "Call with:\n",
    "mpiexec -n 4 python script.py"
   ]
  },
  {
   "cell_type": "markdown",
   "id": "ce8c742c",
   "metadata": {},
   "source": [
    "MapReduce example (https://www.youtube.com/watch?v=EmHc9hV5Xi8):"
   ]
  },
  {
   "cell_type": "code",
   "execution_count": 4,
   "id": "71224615",
   "metadata": {},
   "outputs": [],
   "source": [
    "from mrjob.job import MRJob\n",
    "from mrjob.step import MRStep"
   ]
  },
  {
   "cell_type": "code",
   "execution_count": 12,
   "id": "c3263b07",
   "metadata": {},
   "outputs": [
    {
     "name": "stderr",
     "output_type": "stream",
     "text": [
      "usage: ipykernel_launcher.py [options] [input files]\n",
      "ipykernel_launcher.py: error: unrecognized arguments: -f\n"
     ]
    },
    {
     "ename": "SystemExit",
     "evalue": "2",
     "output_type": "error",
     "traceback": [
      "An exception has occurred, use %tb to see the full traceback.\n",
      "\u001b[0;31mSystemExit\u001b[0m\u001b[0;31m:\u001b[0m 2\n"
     ]
    },
    {
     "name": "stderr",
     "output_type": "stream",
     "text": [
      "/Users/haileytrier/opt/anaconda3/lib/python3.8/site-packages/IPython/core/interactiveshell.py:3445: UserWarning: To exit: use 'exit', 'quit', or Ctrl-D.\n",
      "  warn(\"To exit: use 'exit', 'quit', or Ctrl-D.\", stacklevel=1)\n"
     ]
    }
   ],
   "source": [
    "class RatingsBreakdown(MRJob):\n",
    "    def steps(self):\n",
    "        return [\n",
    "            MRStep(mapper=self.mapper_get_ratings,\n",
    "                  reducer=self.reducer_count_ratings)\n",
    "        ]\n",
    "    \n",
    "    def mapper_get_ratings(self, _, line):\n",
    "        (userID, movieID, rating, timestamp) = line.split('\\t')\n",
    "        return rating, 1\n",
    "    \n",
    "    def reducer_count_ratings(self, key, values):\n",
    "        return key, sum(values)\n",
    "    \n",
    "#if __name__ = '__main__':\n",
    "RatingsBreakdown.run()"
   ]
  }
 ],
 "metadata": {
  "kernelspec": {
   "display_name": "Python 3",
   "language": "python",
   "name": "python3"
  },
  "language_info": {
   "codemirror_mode": {
    "name": "ipython",
    "version": 3
   },
   "file_extension": ".py",
   "mimetype": "text/x-python",
   "name": "python",
   "nbconvert_exporter": "python",
   "pygments_lexer": "ipython3",
   "version": "3.8.8"
  }
 },
 "nbformat": 4,
 "nbformat_minor": 5
}
