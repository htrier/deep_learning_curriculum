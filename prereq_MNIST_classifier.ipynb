{
 "cells": [
  {
   "cell_type": "markdown",
   "id": "414a8ce1",
   "metadata": {},
   "source": [
    "### Exercise: using PyTorch to train a small neural network to do MNIST classification. Goal: ~99% test accuracy using a 3-layer convolutional neural network."
   ]
  },
  {
   "cell_type": "code",
   "execution_count": 1,
   "id": "355194a3",
   "metadata": {},
   "outputs": [],
   "source": [
    "import torch\n",
    "import torchvision.datasets as datasets\n",
    "import matplotlib.pyplot as plt\n",
    "import torchvision.transforms as tfms"
   ]
  },
  {
   "cell_type": "markdown",
   "id": "3334f312",
   "metadata": {},
   "source": [
    "#### Get training data & show a few example images"
   ]
  },
  {
   "cell_type": "code",
   "execution_count": 3,
   "id": "9523e473",
   "metadata": {},
   "outputs": [
    {
     "data": {
      "image/png": "[encoded data removed]",
      "text/plain": [
       "<Figure size 432x288 with 3 Axes>"
      ]
     },
     "metadata": {
      "needs_background": "light"
     },
     "output_type": "display_data"
    }
   ],
   "source": [
    "mnist_trainset = datasets.MNIST(root='./data', train=True, download=True, transform=tfms.ToTensor())\n",
    "testset = datasets.MNIST(root='./data', train=False, download=True, transform=tfms.ToTensor())\n",
    "\n",
    "fig, axes = plt.subplots(1, 3)\n",
    "for i in range(3):\n",
    "    x, _ = mnist_trainset[i]\n",
    "    ax = axes[i]\n",
    "    ax.imshow(x.numpy()[0], cmap='gray')\n",
    "plt.tight_layout()\n",
    "plt.show()"
   ]
  },
  {
   "cell_type": "code",
   "execution_count": 8,
   "id": "fc127b51",
   "metadata": {},
   "outputs": [
    {
     "data": {
      "text/plain": [
       "torch.Size([1, 28, 28])"
      ]
     },
     "execution_count": 8,
     "metadata": {},
     "output_type": "execute_result"
    }
   ],
   "source": [
    "x.shape"
   ]
  },
  {
   "cell_type": "markdown",
   "id": "74a0441c",
   "metadata": {},
   "source": [
    "#### Set up model"
   ]
  },
  {
   "cell_type": "code",
   "execution_count": null,
   "id": "c2c46424",
   "metadata": {},
   "outputs": [],
   "source": []
  },
  {
   "cell_type": "markdown",
   "id": "05a02cce",
   "metadata": {},
   "source": [
    "#### Train"
   ]
  },
  {
   "cell_type": "code",
   "execution_count": null,
   "id": "6044033f",
   "metadata": {},
   "outputs": [],
   "source": [
    "batch_size = 128"
   ]
  }
 ],
 "metadata": {
  "kernelspec": {
   "display_name": "Python 3",
   "language": "python",
   "name": "python3"
  },
  "language_info": {
   "codemirror_mode": {
    "name": "ipython",
    "version": 3
   },
   "file_extension": ".py",
   "mimetype": "text/x-python",
   "name": "python",
   "nbconvert_exporter": "python",
   "pygments_lexer": "ipython3",
   "version": "3.8.8"
  }
 },
 "nbformat": 4,
 "nbformat_minor": 5
}
