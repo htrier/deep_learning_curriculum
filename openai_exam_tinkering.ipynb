{
 "cells": [
  {
   "cell_type": "code",
   "execution_count": 5,
   "id": "12d91189",
   "metadata": {},
   "outputs": [],
   "source": [
    "import numpy as np\n",
    "def f():\n",
    "    count = 0\n",
    "    while True:\n",
    "        n = np.random.randint(0,100)\n",
    "        count += 1\n",
    "        if n == 0:\n",
    "            return count"
   ]
  },
  {
   "cell_type": "code",
   "execution_count": 9,
   "id": "2ab66dc0",
   "metadata": {},
   "outputs": [
    {
     "name": "stdout",
     "output_type": "stream",
     "text": [
      "99.81624\n"
     ]
    }
   ],
   "source": [
    "allc = []\n",
    "for i in range(100000):\n",
    "    c = f()\n",
    "    allc.append(c)\n",
    "print(np.mean(allc))"
   ]
  },
  {
   "cell_type": "code",
   "execution_count": 12,
   "id": "152da159",
   "metadata": {},
   "outputs": [
    {
     "data": {
      "text/plain": [
       "array([0, 1, 2, 3, 4])"
      ]
     },
     "execution_count": 12,
     "metadata": {},
     "output_type": "execute_result"
    }
   ],
   "source": [
    "np.random.permutation(5)"
   ]
  },
  {
   "cell_type": "code",
   "execution_count": 13,
   "id": "7ab23752",
   "metadata": {},
   "outputs": [],
   "source": [
    "def g():\n",
    "    ns = np.random.permutation(100)\n",
    "    count=0\n",
    "    while True:\n",
    "        n = ns[count]\n",
    "        count += 1\n",
    "        if n==0:\n",
    "            return count"
   ]
  },
  {
   "cell_type": "code",
   "execution_count": 14,
   "id": "0002d093",
   "metadata": {},
   "outputs": [
    {
     "name": "stdout",
     "output_type": "stream",
     "text": [
      "50.49271\n"
     ]
    }
   ],
   "source": [
    "allc = []\n",
    "for i in range(100000):\n",
    "    c = g()\n",
    "    allc.append(c)\n",
    "print(np.mean(allc))"
   ]
  },
  {
   "cell_type": "code",
   "execution_count": 15,
   "id": "f4777da3",
   "metadata": {},
   "outputs": [],
   "source": [
    "allfuncs = [g, f]"
   ]
  },
  {
   "cell_type": "code",
   "execution_count": 18,
   "id": "1830ad00",
   "metadata": {},
   "outputs": [
    {
     "data": {
      "text/plain": [
       "97"
      ]
     },
     "execution_count": 18,
     "metadata": {},
     "output_type": "execute_result"
    }
   ],
   "source": [
    "allfuncs[1]()"
   ]
  },
  {
   "cell_type": "code",
   "execution_count": 19,
   "id": "d1e9dfe6",
   "metadata": {},
   "outputs": [
    {
     "data": {
      "text/plain": [
       "6"
      ]
     },
     "execution_count": 19,
     "metadata": {},
     "output_type": "execute_result"
    }
   ],
   "source": [
    "sum([1, 2, 3])"
   ]
  },
  {
   "cell_type": "code",
   "execution_count": 27,
   "id": "c01ab2e9",
   "metadata": {},
   "outputs": [
    {
     "data": {
      "text/plain": [
       "-0.12105618121080544"
      ]
     },
     "execution_count": 27,
     "metadata": {},
     "output_type": "execute_result"
    }
   ],
   "source": [
    "np.random.normal(0, 0.05)"
   ]
  },
  {
   "cell_type": "code",
   "execution_count": 35,
   "id": "3813c097",
   "metadata": {},
   "outputs": [
    {
     "name": "stdout",
     "output_type": "stream",
     "text": [
      "10.001643001136134\n"
     ]
    }
   ],
   "source": [
    "sumvals = 10\n",
    "sims = []\n",
    "for s in range(1000):\n",
    "    randnoise = sum(np.random.normal(0, 0.05, 5))\n",
    "    sims.append(sumvals+randnoise)\n",
    "print(np.mean(sims))"
   ]
  }
 ],
 "metadata": {
  "kernelspec": {
   "display_name": "Python 3",
   "language": "python",
   "name": "python3"
  },
  "language_info": {
   "codemirror_mode": {
    "name": "ipython",
    "version": 3
   },
   "file_extension": ".py",
   "mimetype": "text/x-python",
   "name": "python",
   "nbconvert_exporter": "python",
   "pygments_lexer": "ipython3",
   "version": "3.8.8"
  }
 },
 "nbformat": 4,
 "nbformat_minor": 5
}
